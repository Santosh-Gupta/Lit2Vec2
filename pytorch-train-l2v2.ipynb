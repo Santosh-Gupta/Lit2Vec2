{
 "cells": [
  {
   "cell_type": "code",
   "execution_count": null,
   "metadata": {},
   "outputs": [],
   "source": [
    "# Imports for the project\n",
    "\n",
    "#!pip install LogUniform SpeedTorch cupy\n",
    "\n",
    "import os\n",
    "import shutil\n",
    "import datetime\n",
    "\n",
    "from azureml.core.workspace import Workspace\n",
    "from azureml.core import Experiment\n",
    "\n",
    "from azureml.core.compute import ComputeTarget, AmlCompute\n",
    "from azureml.core.compute_target import ComputeTargetException\n",
    "from azureml.train.dnn import PyTorch"
   ]
  },
  {
   "cell_type": "code",
   "execution_count": null,
   "metadata": {},
   "outputs": [],
   "source": [
    "# Set up the workspace and config for the project\n",
    "\n",
    "# Subscription_id is my personal id - change to your own if you're running this on a different account\n",
    "\n",
    "sub_id = '' \n",
    "name = 'Azure-AI-Hackathon-Proj'\n",
    "res_group = name\n",
    "\n",
    "\n",
    "ws = Workspace.get(name=name,\n",
    "                       subscription_id=sub_id,\n",
    "                       resource_group=res_group)\n"
   ]
  },
  {
   "cell_type": "code",
   "execution_count": null,
   "metadata": {},
   "outputs": [],
   "source": [
    "# Create the source folder and the experiment\n",
    "project_folder = './pytorch-lit2vec2'\n",
    "os.makedirs(project_folder, exist_ok=True)\n",
    "\n",
    "experiment_name = 'pytorch-lit2vec2'\n",
    "experiment = Experiment(ws, name=experiment_name)"
   ]
  },
  {
   "cell_type": "code",
   "execution_count": null,
   "metadata": {},
   "outputs": [],
   "source": [
    "# Make sure the training script and all other import files are uploaded to the experiment folder\n",
    "\n",
    "shutil.copy('lit2vec2training_start9_9_19.py', project_folder)\n"
   ]
  },
  {
   "cell_type": "code",
   "execution_count": null,
   "metadata": {},
   "outputs": [],
   "source": [
    "# Allocate the compute resources for this job\n",
    "\n",
    "cluster_name = \"gpucluster\"\n",
    "\n",
    "try:\n",
    "    compute_target = ComputeTarget(workspace=ws, name=cluster_name)\n",
    "    print('Found existing compute target')\n",
    "except ComputeTargetException:\n",
    "    print('Creating a new compute target...')\n",
    "    compute_config = AmlCompute.provisioning_configuration(vm_size='STANDARD_NC6', \n",
    "                                                           max_nodes=4)\n",
    "\n",
    "    compute_target = ComputeTarget.create(ws, cluster_name, compute_config)\n",
    "\n",
    "    compute_target.wait_for_completion(show_output=True, min_node_count=None, timeout_in_minutes=20)"
   ]
  },
  {
   "cell_type": "code",
   "execution_count": null,
   "metadata": {},
   "outputs": [],
   "source": [
    "# Change as necessary.\n",
    "# AFAIK no params are needed for this script, but could modify so everything is controlled from this notebook \n",
    "script_params = {}\n",
    "\n",
    "\n",
    "\n",
    "# Varaiable to fill with the packages needed to train this model. \n",
    "# Installing packages this way can be quite messy. \n",
    "# Using workaround by installing within training script.\n",
    "pkgs = []\n",
    "#['LogUniform', 'SpeedTorch', 'cupy']\n",
    "\n",
    "\n",
    "estimator = PyTorch(source_directory=project_folder, \n",
    "                    script_params=script_params,\n",
    "                    compute_target=compute_target,\n",
    "                    entry_script='lit2vec2training_start9_9_19.py',\n",
    "                    use_gpu=True,\n",
    "                    pip_packages=pkgs)"
   ]
  },
  {
   "cell_type": "code",
   "execution_count": null,
   "metadata": {},
   "outputs": [],
   "source": [
    "# Submit run of the experiment to Azure workspace\n",
    "\n",
    "run = experiment.submit(estimator)\n",
    "run.wait_for_completion(show_output=True)"
   ]
  },
  {
   "cell_type": "code",
   "execution_count": null,
   "metadata": {},
   "outputs": [],
   "source": [
    "# Register the model to the outputs folder\n",
    "os.makedirs('outputs/', exist_ok=True)\n",
    "\n",
    "model = run.register_model(model_name='pt-l2v2', model_path='outputs/')\n",
    "\n"
   ]
  },
  {
   "cell_type": "code",
   "execution_count": null,
   "metadata": {},
   "outputs": [],
   "source": [
    "# When running on local machine, dowload using this cell\n",
    "'''\n",
    "# Create a model folder in the current directory\n",
    "\n",
    "os.makedirs('./model', exist_ok=True)\n",
    "\n",
    "for f in run.get_file_names():\n",
    "    if f.startswith('outputs/model'):\n",
    "        output_file_path = os.path.join('./model', f.split('/')[-1])\n",
    "        print('Downloading from {} to {} ...'.format(f, output_file_path))\n",
    "        run.download_file(name=f, output_file_path=output_file_path)\n",
    "        \n",
    "'''\n"
   ]
  },
  {
   "cell_type": "code",
   "execution_count": null,
   "metadata": {},
   "outputs": [],
   "source": []
  },
  {
   "cell_type": "code",
   "execution_count": null,
   "metadata": {},
   "outputs": [],
   "source": []
  }
 ],
 "metadata": {
  "kernelspec": {
   "display_name": "Python 3.6 - AzureML",
   "language": "python",
   "name": "python3-azureml"
  },
  "language_info": {
   "codemirror_mode": {
    "name": "ipython",
    "version": 3
   },
   "file_extension": ".py",
   "mimetype": "text/x-python",
   "name": "python",
   "nbconvert_exporter": "python",
   "pygments_lexer": "ipython3",
   "version": "3.6.2"
  }
 },
 "nbformat": 4,
 "nbformat_minor": 2
}
